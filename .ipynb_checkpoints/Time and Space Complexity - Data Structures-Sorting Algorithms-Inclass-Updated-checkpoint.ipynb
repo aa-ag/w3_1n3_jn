{
 "cells": [
  {
   "cell_type": "markdown",
   "metadata": {},
   "source": [
    "# Time/Space Complexity - Sorting Algorithms and Data Structures\n",
    "\n",
    "### Topics to discuss today:\n",
    "\n",
    "<ul>\n",
    "    <li>Time and Space Complexity - What is it/How do we measure it</li>\n",
    "    <li>Asymptotic Analysis</li>\n",
    "    <li><strong>Data Structures</strong></li>\n",
    "    <li>Some of the popular sorting algorithms</li>\n",
    "</ul>\n",
    "\n",
    "### Data Structures to discuss:\n",
    "- Arrays\n",
    "- Linked Lists\n",
    "    - Singly Linked Lists\n",
    "    - Doubly Linked Lists\n",
    "    - Traversing A Linked List\n",
    "    - Finding a node in a linked list\n",
    "    - Adding to a linked list\n",
    "- Binary Search Trees\n",
    "    - Construction\n",
    "    - Traversal\n",
    "- Stacks\n",
    "- Queues\n",
    "\n",
    "- Sorting Algorithms\n",
    "    - Bubble Sort\n",
    "    - Insertion Sort\n"
   ]
  },
  {
   "cell_type": "markdown",
   "metadata": {},
   "source": [
    "## Time and Space Complexity\n",
    "\n",
    "#### What is it?\n",
    "\n",
    "Time and space complexity is the measure of how much time a given action(function) will take to solve a problem. In the same fashion, we determine how much a given data structure will need in terms of memory allocation. A problem can have multiple solutions and finding the optimal solution for the problem needs to be analyzed in time and space.\n",
    "\n",
    "#### How do we measure Time and Space Complexity?\n",
    "\n",
    "In order to measure time and space complexity we use Asymptotic analysis. The reason for this is because we need a way to measure different algorithms (functions) based on the size of their inputs in a mathmatical way. For example, we could have a function that is computed as f(n) and another that is g(n^2). All things around the function staying constant, the only thing that changes is the size of the input. Below is the chart that shows the different Asymptotic analysis formats. "
   ]
  },
  {
   "cell_type": "markdown",
   "metadata": {},
   "source": [
    "<table style=\"text-align:center;\" class=\"table table-bordered\">\n",
    "<tbody><tr>\n",
    "<td>constant</td>\n",
    "<td>−</td>\n",
    "<td>Ο(1)</td>\n",
    "</tr>\n",
    "<tr>\n",
    "<td>logarithmic</td>\n",
    "<td>−</td>\n",
    "<td>Ο(log n)</td>\n",
    "</tr>\n",
    "<tr>\n",
    "<td>linear</td>\n",
    "<td>−</td>\n",
    "<td>Ο(n)</td>\n",
    "</tr>\n",
    "<tr>\n",
    "<td>n log n</td>\n",
    "<td>−</td>\n",
    "<td>Ο(n log n)</td>\n",
    "</tr>\n",
    "<tr>\n",
    "<td>quadratic</td>\n",
    "<td>−</td>\n",
    "<td>Ο(n<sup>2</sup>)</td>\n",
    "</tr>\n",
    "<tr>\n",
    "<td>cubic</td>\n",
    "<td>−</td>\n",
    "<td>Ο(n<sup>3</sup>)</td>\n",
    "</tr>\n",
    "<tr>\n",
    "<td>polynomial</td>\n",
    "<td>−</td>\n",
    "<td>n<sup>Ο(1)</sup></td>\n",
    "</tr>\n",
    "<tr>\n",
    "<td>exponential</td>\n",
    "<td>−</td>\n",
    "<td>2<sup>Ο(n)</sup></td>\n",
    "</tr>\n",
    "</tbody></table>"
   ]
  },
  {
   "cell_type": "markdown",
   "metadata": {},
   "source": [
    "## Arrays"
   ]
  },
  {
   "cell_type": "markdown",
   "metadata": {},
   "source": [
    "In python we benefit from the dynamic array which means the block of memory will expand as needed for the given input to the array. In traditional arrays (depending on the type of operating system) we will usually store our inputs in 4 or 8 consecutive blocks of memory. Below is a diagram of how that looks under the hood:\n",
    "\n",
    "<img src=\"http://www.mathcs.emory.edu/~cheung/Courses/170/Syllabus/09/FIGS/array02x.gif\" style=\"height:250px; width:350px;\">"
   ]
  },
  {
   "cell_type": "markdown",
   "metadata": {},
   "source": [
    "## Which in python looks like this:"
   ]
  },
  {
   "cell_type": "code",
   "execution_count": 3,
   "metadata": {},
   "outputs": [],
   "source": [
    "array = [23, 4, 6, 15, 5, 5]"
   ]
  },
  {
   "cell_type": "markdown",
   "metadata": {},
   "source": [
    "### Let's take a look at some of the time and space analysis of arrays"
   ]
  },
  {
   "cell_type": "code",
   "execution_count": 6,
   "metadata": {},
   "outputs": [
    {
     "name": "stdout",
     "output_type": "stream",
     "text": [
      "23\n",
      "4\n",
      "3\n",
      "15\n",
      "5\n",
      "5\n"
     ]
    },
    {
     "data": {
      "text/plain": [
       "[23, 4, 3, 15, 5, 5]"
      ]
     },
     "execution_count": 6,
     "metadata": {},
     "output_type": "execute_result"
    }
   ],
   "source": [
    "# Indexing an array\n",
    "indexing = array[1] #constant time and space \\\\ O(1)\n",
    "\n",
    "# Searching Through an Array\n",
    "# Linear Time \\\\ O(n) Constant Space \\\\ O(1)\n",
    "\n",
    "for i in array:\n",
    "    print(i)\n",
    "\n",
    "# Copying An Array\n",
    "# linear Time - O(n) AND Linear Space - O(n)\n",
    "copying = array[:]\n",
    "\n",
    "# Setting an index in an array\n",
    "# constant time and constant space O(1)\n",
    "\n",
    "array[2] = 3\n",
    "array\n"
   ]
  },
  {
   "cell_type": "markdown",
   "metadata": {},
   "source": [
    "## Stacks and Queues (Review)\n",
    "\n",
    "** Stacks ** as the name suggests is a data structure that allows for data to follow the Last In First Out priciple(LIFO). Think of a stack of pancakes for example. To get the first pancake you would  start with the top and go down.\n",
    "\n",
    "##### Searching through a stack will be Linear Time O(n) - Constant Space O(1)\n",
    "##### Selecting the last item will be done in Constant Time O(1) - Constant Space O(1)\n",
    "##### Adding to the stack should take Constant Time O(1) - Constant Space O(1)\n",
    "\n",
    "** Queues ** are similar but in this case follow the First In First Out principle(FIFO). Think of this as a line in a black friday sale. The first person camped out for the big screen tv is the first to get it.\n",
    "\n",
    "##### Searching through a queue will be Linear Time O(n) - Constant Space O(1)\n",
    "##### Selecting the first item will be done in Constant Time O(1) - Constant Space O(1)\n",
    "##### Adding to the queue should take Constant Time O(1) - Constant Space O(1)"
   ]
  },
  {
   "cell_type": "code",
   "execution_count": 9,
   "metadata": {},
   "outputs": [
    {
     "name": "stdout",
     "output_type": "stream",
     "text": [
      "30\n",
      "Bob\n"
     ]
    }
   ],
   "source": [
    "# Stacks and Queue are paradigms, to organize how to operate\n",
    "\n",
    "stack = []\n",
    "\n",
    "stack.append(10)\n",
    "stack.append(20)\n",
    "stack.append(30)\n",
    "\n",
    "last_item = stack.pop()\n",
    "print(last_item)\n",
    "\n",
    "queue = []\n",
    "queue.append('Bob')\n",
    "queue.append('Mary')\n",
    "queue.append('Misty')\n",
    "\n",
    "first_item = queue.pop(0)\n",
    "print(first_item)"
   ]
  },
  {
   "cell_type": "markdown",
   "metadata": {},
   "source": [
    "## Linked List (Data Structure)\n",
    "\n",
    "A linked list is created by using the node class. We create a Node object and create another class to use this node object. We pass the appropriate values thorugh the node object to point the to the next data elements.\n",
    "\n",
    "There are some advantages and disadvantages with this data structure. **Advantages** Linked Lists can save memory because they can be flexibile with memory management which saves memory. **Disadvantages** Finding or adding to the list requires traversing the entire list."
   ]
  },
  {
   "cell_type": "code",
   "execution_count": 17,
   "metadata": {},
   "outputs": [
    {
     "name": "stdout",
     "output_type": "stream",
     "text": [
      "Mon\n",
      "Tues\n",
      "Wed\n",
      "None\n"
     ]
    }
   ],
   "source": [
    "class LinkedListNode():\n",
    "    def __init__(self, value):\n",
    "        self.value = value\n",
    "        self.next = None\n",
    "    \n",
    "    def traverseList(self):\n",
    "        node = self # Start of the Head Node\n",
    "        while node != None:\n",
    "            print(node.value) # Access the node value\n",
    "            node = node.next\n",
    "            \n",
    "node1 = LinkedListNode(\"Mon\")\n",
    "node2 = LinkedListNode(\"Tues\")\n",
    "node3 = LinkedListNode(\"Wed\")\n",
    "\n",
    "node1.next = node2\n",
    "node2.next = node3\n",
    "print(node1.traverseList())\n"
   ]
  },
  {
   "cell_type": "code",
   "execution_count": 32,
   "metadata": {},
   "outputs": [
    {
     "name": "stdout",
     "output_type": "stream",
     "text": [
      "Joel\n",
      "Paul\n",
      "Fred\n",
      "Derek\n",
      "Joe\n"
     ]
    }
   ],
   "source": [
    "class Node():\n",
    "    def __init__(self,value):\n",
    "        self.value = value #The data placed inside the node\n",
    "        self.next = None # Starting at a NONE position for the head node\n",
    "\n",
    "# Creation of LinkedList class which will contain a node\n",
    "class LinkedList():\n",
    "    # Create head node for linked list\n",
    "    def __init__(self):\n",
    "        self.head = None #Will always start out pointing at nothing\n",
    "    \n",
    "    # Adding info to the linked list\n",
    "    def pushOn(self, new_value):\n",
    "        new_node = Node(new_value) # Put data inside of Node\n",
    "        new_node.next = self.head # Make next pointer of new Node as the head Node\n",
    "        self.head = new_node # Set the head node of the linked list to the newly created value\n",
    "    \n",
    "    #This method insderts a new node after a previous node\n",
    "    def insertAfter(self,prev_node,new_value):\n",
    "        \n",
    "        # Check if the current previous node even exists\n",
    "        if prev_node is None:\n",
    "            print(\"The given previous node must not be empty\")\n",
    "            return\n",
    "        \n",
    "        # If the node is not empty, then create a new node\n",
    "        new_node = Node(new_value)\n",
    "        \n",
    "        # Update the previous node's next pointer to point to the new value\n",
    "        new_node.next = prev_node.next\n",
    "        \n",
    "        # Update previous node to point to the new node's value\n",
    "        prev_node.next = new_node\n",
    "    \n",
    "    # Create a method insertAfter() giving it both the previous node and the new_value\n",
    "    # So that each action does not have to be written with a separate variable\n",
    "    # This method will append a new node to the end of the linked list\n",
    "    \n",
    "    def append(self,new_value):\n",
    "        # Create new node with new value\n",
    "        new_node = Node(new_value)\n",
    "        # Check if the linked list is empty\n",
    "        # If the linked list is empty, make the new node the head node (beginning of the list)\n",
    "        if self.head is None:\n",
    "            self.head = new_node\n",
    "            return\n",
    "        \n",
    "        # BUT if the list is NOT empty, traverse to the end and add the NEW value\n",
    "        last = self.head\n",
    "        #while last.next is not None, continue to loop until we find a None value\n",
    "        while(last.next):\n",
    "            last = last.next\n",
    "        # Change current last node value to point to new value\n",
    "        last.next = new_node\n",
    "    \n",
    "    def traverse(self):\n",
    "        temp = self.head\n",
    "        # while temp is not None, keep looping through until you reach a None value\n",
    "        while (temp):\n",
    "            print(temp.value)\n",
    "            temp = temp.next\n",
    "\n",
    "# Create linked list instantiation\n",
    "name_links = LinkedList()\n",
    "\n",
    "# Insert a new name into the list\n",
    "name_links.pushOn(\"Joel\")\n",
    "name_links.append(\"Derek\")\n",
    "name_links.insertAfter(name_links.head.next,\"Joe\") #Start at the head node, which points to Derek, and put this value after Derek\n",
    "name_links.insertAfter(name_links.head,\"Paul\") #Inserts after the head\n",
    "name_links.insertAfter(name_links.head.next,\"Fred\") #works because the head is at Paul\n",
    "name_links.traverse()"
   ]
  },
  {
   "cell_type": "markdown",
   "metadata": {},
   "source": [
    "# Doubly Linked Lists\n",
    "\n",
    "A Doubly Linked List allows for traversal from the front to the back and back to the front. \n",
    "\n",
    "The run time for this traversal from front to back would be O(n) - Linear Time\n",
    "The run time for traversal from the back to the front would ALSO be O(n) - Linear Time\n",
    "\n",
    "IF we needed to do front to back AND back to front at the same time that runtime would be O(n^2) - Exponential Time\n",
    "\n",
    "And Space complexity would in the average and worst case be O(1) - Constant time. Because we are dealing with the same block(s) of memory."
   ]
  },
  {
   "cell_type": "markdown",
   "metadata": {},
   "source": [
    "## Binary Search Trees"
   ]
  },
  {
   "cell_type": "code",
   "execution_count": 5,
   "metadata": {},
   "outputs": [
    {
     "name": "stdout",
     "output_type": "stream",
     "text": [
      "Joel\n",
      "Derek\n",
      "Paul\n",
      "True\n"
     ]
    }
   ],
   "source": [
    "class Node():\n",
    "    def __init__(self, value):\n",
    "        self.value = value # The data placed inside the node\n",
    "        self.prev = None\n",
    "        self.next = None # Starting at the NONE position for the Head Node\n",
    "        \n",
    "class DoublyLinkedList():\n",
    "    # Doubly linklists require a head and a tail\n",
    "    # In order to traverse through the front and back of list\n",
    "    def __init__(self):\n",
    "        self.head = None\n",
    "        self.tail = None\n",
    "        \n",
    "    def setHead(self, node):\n",
    "        \"\"\"\n",
    "            setHead accepts a node object and will set the \n",
    "            head and the tail if the head is empty. Otherwise\n",
    "            set the current node's value to the front of\n",
    "            the head node\n",
    "        \"\"\"\n",
    "        if self.head is None:\n",
    "            self.head = node\n",
    "            self.tail = node\n",
    "            return\n",
    "        self.insertBefore(self.head, node)\n",
    "        \n",
    "    def setTail(self,node):\n",
    "        \"\"\"\n",
    "            setTail accepts a node object and will set the tail\n",
    "            by calling setHead() method, if the tail is empty or \n",
    "            add to the back of the list if the tail is not empty\n",
    "        \"\"\"\n",
    "        if self.tail is None:\n",
    "            self.setHead(node)\n",
    "            return\n",
    "        self.insertAfter(self.tail, node)\n",
    "    \n",
    "    def insertBefore(self, node, nodeToInsert):\n",
    "        \"\"\"\n",
    "            insertBefore accepts a new node object to the previous node object.\n",
    "            It will then check if the new node is present in the links both at the\n",
    "            front and back (head/tail respectively).  If that value is not present,\n",
    "            then we will add the value to the front of the previous link in the list.\n",
    "        \"\"\"\n",
    "        \n",
    "        if nodeToInsert == self.head and nodeToInsert == self.tail:\n",
    "            return\n",
    "        self.remove(nodeToInsert)\n",
    "        nodeToInsert.prev = node.prev\n",
    "        nodeToInsert.next = node\n",
    "        \n",
    "    def insertAfter(self, node, nodeToInsert):\n",
    "        \"\"\"\n",
    "            insertAfter accepts a new node object and a previous node object.\n",
    "            It will check if the new node is present at the head and the tail.\n",
    "            If the value is not present, then we will add the new value to the\n",
    "            back of the previous node in the list.\n",
    "        \"\"\"\n",
    "        if nodeToInsert == self.head and nodeToInsert == self.tail:\n",
    "            return\n",
    "        self.remove(nodeToInsert)\n",
    "        nodeToInsert.prev = node\n",
    "        nodeToInsert.next = node.next\n",
    "        if node.next is None:\n",
    "            self.tail = nodeToInsert\n",
    "        else:\n",
    "            node.next.prev = nodeToInsert\n",
    "        node.next = nodeToInsert\n",
    "        \n",
    "    def insertAtPosition(self, position, nodeToInsert):\n",
    "        \"\"\"\n",
    "            insertAtPosition accepts an integer as a position in the list, and\n",
    "            a node object to insert.  If the current position is 1 then set the\n",
    "            node at the head of the list.  If the node is not empty, then set\n",
    "            the node before the current node and otherwise set the node at the\n",
    "            end of the list if the previous nodes pointer is empty(None)\n",
    "        \"\"\"\n",
    "        \n",
    "        if position == 1:\n",
    "            self.setHead(nodeToInsert)\n",
    "            return\n",
    "        node = self.head\n",
    "        currentPosition = 1\n",
    "        while node is not Node and currentPosition != position:\n",
    "            node = node.next\n",
    "            currentPosition += 1\n",
    "        if node is not None:\n",
    "            self.insertBefore(node, nodeToInsert)\n",
    "        else:\n",
    "            self.setTail(nodeToInsert)\n",
    "            \n",
    "        \n",
    "    def removeNodesWithValue(self,value):\n",
    "        \"\"\"\n",
    "                removeNodesWithValue accepts a string/integer as a value. The \n",
    "                method will start at the head node and cycle through(traverse)\n",
    "                the list until it finds the value that is equal to the value we \n",
    "                passed into the method.\n",
    "        \"\"\"\n",
    "            \n",
    "        node = self.head\n",
    "        while node is not None:\n",
    "            nodeToRemove = node\n",
    "            node = node.next\n",
    "            if nodeToRemove.value == value:\n",
    "                self.remove(nodeToRemove)\n",
    "                    \n",
    "        \n",
    "    def remove(self, node):\n",
    "        \"\"\"\n",
    "            Remove accepts a node object and will remove the node in the list\n",
    "            that we pass to it\n",
    "        \"\"\"\n",
    "            \n",
    "        if node == self.head:\n",
    "            self.head == self.head.next\n",
    "        if node == self.tail:\n",
    "            self.tail = self.tail.prev\n",
    "        self.removeNodeBindings(node)\n",
    "            \n",
    "    def removeNodeBindings(self,node):\n",
    "        \"\"\"\n",
    "            removeNodeBindings accepts a node object.  The method will check the\n",
    "            previous nodes next pointer and make sure it is empty.  If not, we\n",
    "            will update the previous nodes next pointer to current pointer\n",
    "            and also check if the current pointer is not empty.  If the current\n",
    "            pointer had a value, then connect both the previous and the incoming\n",
    "            node values.\n",
    "        \"\"\"\n",
    "            \n",
    "        if node.prev is not None:\n",
    "            node.prev.next = node.next\n",
    "        if node.next is not None:\n",
    "            node.next.prev = node.prev\n",
    "        node.prev = None\n",
    "        node.next = None\n",
    "            \n",
    "    def containsNodeWithValue(self, value):\n",
    "        \"\"\"\n",
    "            containsNodeWithValue accepts an integer/string as a value.\n",
    "            The method will continue to loop if the value has NOT been found\n",
    "            AND the node is not empty. We return the value once it has been found.\n",
    "        \"\"\"\n",
    "            \n",
    "        node = self.head\n",
    "        while node is not None and node.value != value:\n",
    "            node = node.next\n",
    "            return node is not None\n",
    "            \n",
    "    def traverse(self):\n",
    "        \"\"\"\n",
    "            Traverse through the list strarting at the head node\n",
    "        \"\"\"\n",
    "            \n",
    "        temp = self.head\n",
    "        while (temp):\n",
    "            print(temp.value)\n",
    "            temp = temp.next\n",
    "                \n",
    "name_node = Node(\"Joel\")\n",
    "name_node2 = Node(\"Derek\")\n",
    "\n",
    "dl_name_list = DoublyLinkedList()\n",
    "\n",
    "dl_name_list.setHead(name_node)\n",
    "dl_name_list.insertAfter(name_node, name_node2)\n",
    "dl_name_list.insertAfter(name_node2, Node(\"Paul\"))\n",
    "dl_name_list.traverse()\n",
    "\n",
    "print(dl_name_list.containsNodeWithValue(\"Paul\"))"
   ]
  },
  {
   "cell_type": "code",
   "execution_count": 9,
   "metadata": {},
   "outputs": [
    {
     "data": {
      "text/plain": [
       "True"
      ]
     },
     "execution_count": 9,
     "metadata": {},
     "output_type": "execute_result"
    }
   ],
   "source": []
  },
  {
   "cell_type": "markdown",
   "metadata": {},
   "source": [
    "## Sorting Algorithms\n",
    "\n",
    "#### Bubble Sort\n",
    "\n",
    "Worst Case: O(n^2) Time - O(1) Space"
   ]
  },
  {
   "cell_type": "code",
   "execution_count": 42,
   "metadata": {},
   "outputs": [
    {
     "data": {
      "text/plain": [
       "[20, 20, 7, 6, 5, 10, 50]"
      ]
     },
     "execution_count": 42,
     "metadata": {},
     "output_type": "execute_result"
    }
   ],
   "source": [
    "def bubbleSort(array):\n",
    "    isSorted = False\n",
    "    while not isSorted:\n",
    "        isSorted = True\n",
    "        for num in range(len(array) - 1):\n",
    "            if array[num] > array[num + 1]:\n",
    "                swap(num, num + 1, array)\n",
    "                issorted = False\n",
    "        return array\n",
    "    \n",
    "def swap(i, j, array):\n",
    "    array[i], array[j] = array[j], array[i]\n",
    "    \n",
    "bubbleSort([20, 20, 50, 7, 6, 5, 10])\n"
   ]
  },
  {
   "cell_type": "markdown",
   "metadata": {},
   "source": [
    "##### Insertion Sort\n",
    "\n",
    "Worst Case: O(n^2) time - O(1)space"
   ]
  },
  {
   "cell_type": "code",
   "execution_count": 10,
   "metadata": {},
   "outputs": [
    {
     "data": {
      "text/plain": [
       "[1, 2, 10, 30, 50]"
      ]
     },
     "execution_count": 10,
     "metadata": {},
     "output_type": "execute_result"
    }
   ],
   "source": [
    "def swap(i, j, array):\n",
    "    array[i], array[j] = array[j], array[i]\n",
    "    \n",
    "def insertionSort(array):\n",
    "    for i in range(1, len(array)):\n",
    "        j = i\n",
    "        while j > 0 and array[j] < array[j - 1]:\n",
    "            swap(j, j - 1, array)\n",
    "            j -= 1\n",
    "            \n",
    "    return array\n",
    "\n",
    "insertionSort([10, 50, 30, 2, 1])"
   ]
  },
  {
   "cell_type": "markdown",
   "metadata": {},
   "source": [
    "# Homework"
   ]
  },
  {
   "cell_type": "markdown",
   "metadata": {},
   "source": [
    "#### Problem 1: Linked Lists\n",
    "\n",
    "Using the above examples as a guide, create your own interpretation of the a Linked List class. You can not use the code above exactly, but again it can be used as a guide. This problem requires you to think about how a linked list works and create one using your own logic.\n",
    "\n",
    "*Remember* A Linked List is a list of Nodes that point to the next node in the chain. The first Node starts out as Empty(None) and each node after points to the next.\n",
    "\n",
    "Your Linked List should have a traverse method and have the ability to add a new node"
   ]
  },
  {
   "cell_type": "code",
   "execution_count": 25,
   "metadata": {},
   "outputs": [
    {
     "name": "stdout",
     "output_type": "stream",
     "text": [
      "Breakfast\n",
      "Lunch\n",
      "Dinner\n"
     ]
    }
   ],
   "source": [
    "# class myFirstNode():\n",
    "#     def __init__(self, data):\n",
    "#         self.data = data\n",
    "#         self.next = None\n",
    "\n",
    "#     def myFirstTraverse(self):\n",
    "#         node = self\n",
    "#         while node != None:\n",
    "#             print(node.data)\n",
    "#             node = node.next\n",
    "\n",
    "# node1 = myFirstNode(\"Breakfast\")\n",
    "# node2 = myFirstNode(\"Lunch\")\n",
    "# node3 = myFirstNode(\"Dinner\")\n",
    "\n",
    "# node1.next = node2\n",
    "# node2.next = node3\n",
    "# print(node1.myFirstTraverse())\n",
    "\n",
    "###\n",
    "class myFirstNode():\n",
    "    def __init__(self, data):\n",
    "        self.data = data\n",
    "        self.next = None\n",
    "\n",
    "class Meals():\n",
    "    def __init__(self):\n",
    "        self.head = None\n",
    "        \n",
    "    def create_head_Node(self, new_val):\n",
    "        head_node = myFirstNode(new_val)\n",
    "        head_node.next = self.head\n",
    "        self.head = head_node\n",
    "        \n",
    "    def append_a_Node(self, new_val):\n",
    "        a_new_node = myFirstNode(new_val)\n",
    "        last_node = self.head\n",
    "        while last_node.next:\n",
    "            last_node = last_node.next\n",
    "        last_node.next = a_new_node\n",
    "    \n",
    "    def myFirstTraverse(self):\n",
    "        node = self.head\n",
    "        while node:\n",
    "            print(node.data)\n",
    "            node = node.next\n",
    "            \n",
    "meals_links = Meals()\n",
    "\n",
    "meals_links.create_head_Node(\"Breakfast\")\n",
    "\n",
    "meals_links.append_a_Node(\"Lunch\")\n",
    "meals_links.append_a_Node(\"Dinner\")\n",
    "\n",
    "meals_links.myFirstTraverse()"
   ]
  },
  {
   "cell_type": "markdown",
   "metadata": {},
   "source": [
    "#### Problem 2: Binary Search Tree\n",
    "\n",
    "Using the above examples as a guide, create your own interpretation of the a Binary Search Tree class. You can not use the code above exactly, but again it can be used as a guide. This problem requires you to think about how a Binary Search Tree works and create one using your own logic.\n",
    "\n",
    "*Remember* Binary Search Trees start with a head node and each node to the left of that will be smaller, each node to the right of it will be greater. The far left node should be the lowest number(if one exists) that is available. The far right node (if one exists) should be the greatest number"
   ]
  },
  {
   "cell_type": "code",
   "execution_count": 12,
   "metadata": {},
   "outputs": [
    {
     "data": {
      "text/plain": [
       "False"
      ]
     },
     "execution_count": 12,
     "metadata": {},
     "output_type": "execute_result"
    }
   ],
   "source": [
    "class BST():\n",
    "    def __init__(self,value):\n",
    "        self.value = value # Current Value\n",
    "        self.left = None\n",
    "        self.right = None\n",
    "        \n",
    "    def insert(self,value):\n",
    "        if value < self.value:\n",
    "            if self.left is None:\n",
    "                self.left = BST(value)\n",
    "            else:\n",
    "                self.left.insert(value)\n",
    "        else:\n",
    "            if self.right is None:\n",
    "                self.right = BST(value)\n",
    "            else:\n",
    "                self.right.insert(value)\n",
    "        return self\n",
    "    def contains(self,value):\n",
    "        \"\"\"\n",
    "            method accepts an int for value.\n",
    "            value is what we are looking for inside of our BST structure\n",
    "        \"\"\"\n",
    "        if value < self.value:\n",
    "            if self.left is None:\n",
    "                return False\n",
    "            else:\n",
    "                return self.left.contains(value)\n",
    "        elif value > self.value:\n",
    "            if self.right is None:\n",
    "                return False\n",
    "            else:\n",
    "                return self.right.contains(value)\n",
    "        else:\n",
    "            return True\n",
    "        \n",
    "    def getMinValue(self):\n",
    "        if self.left is None:\n",
    "            return self.value\n",
    "        else:\n",
    "            return self.left.getMinValue()\n",
    "        \n",
    "    def getMaxValue(self):\n",
    "        if self.right is None:\n",
    "            return self.value\n",
    "        else:\n",
    "            return self.right.getMaxValue()\n",
    "        \n",
    "    def remove(self,value,parent=None):\n",
    "        if value < self.value:\n",
    "            if self.left is not None:\n",
    "                self.left.remove(value,self)\n",
    "        elif value > self.value:\n",
    "            if self.right is not None:\n",
    "                self.right.remove(value,self)\n",
    "        else:\n",
    "            if self.left is not None and self.right is not None:\n",
    "                self.value = self.right.getMinValue()\n",
    "                self.right.remove(self.value,self)\n",
    "            elif parent is None:\n",
    "                if self.left is not None:\n",
    "                    self.value = self.left.value\n",
    "                    self.right = self.left.right\n",
    "                    self.left = self.left.left\n",
    "                elif self.right is not None:\n",
    "                    self.value = self.right.value\n",
    "                    self.left = self.right.left\n",
    "                    self.right = self.right.right\n",
    "                else:\n",
    "                    self.value = None\n",
    "            elif parent.left == self:\n",
    "                parent.left = self.left if self.left is not None else self.right\n",
    "            elif parent.right == self:\n",
    "                parent.right = self.left if self.left is not None else self.right\n",
    "        return self\n",
    "                    \n",
    "bst_example = BST(39)\n",
    "bst_example.insert(40)\n",
    "bst_example.insert(50)\n",
    "\n",
    "bst_example.getMaxValue()\n",
    "bst_example.contains(39)\n",
    "bst_example.remove(39)\n",
    "bst_example.contains(39)\n"
   ]
  },
  {
   "cell_type": "markdown",
   "metadata": {},
   "source": [
    "#### Problem 3: Sorting a list - With Insertion Sort\n",
    "\n",
    "Using the above examples as a guide, create your own interpretation of sorting a list using insertion sort. You can not use the code above exactly, but again it can be used as a guide. This problem requires you to think about how sorting lists works and create a solution using your own logic.\n",
    "\n",
    "As you work through the solution, comment the steps you are taking and why."
   ]
  },
  {
   "cell_type": "code",
   "execution_count": 4,
   "metadata": {},
   "outputs": [
    {
     "name": "stdout",
     "output_type": "stream",
     "text": [
      "[1, 2, 3, 4, 5]\n",
      "[1.4, 2.2, 3.5, 4.1, 5.3]\n",
      "[-5, -4, -3, -2, -1]\n",
      "[5]\n",
      "[]\n",
      "[0, 0, 0, 0, 0]\n"
     ]
    }
   ],
   "source": [
    "# tried implementing swap operation inside one function\n",
    "# could not get to work, instead separated as per class example\n",
    "\n",
    "# def swap_method(x, y, arr):\n",
    "#     arr[x], arr[y] = arr[y], arr[x]\n",
    "\n",
    "# # after deciding to separate sorting function, created own logic\n",
    "# # only perform actual sorting on lists with more than 1 elements\n",
    "\n",
    "# def iSort(arr):\n",
    "#     # if the list has 1 or 0 elements, print the list \"as is\"\n",
    "#     if len(arr) <= 1:\n",
    "#         print(arr)\n",
    "#     # otherwise, for each element inside the array\n",
    "#     else:\n",
    "#         for x in range(len(arr)):\n",
    "#             # where each 'non-sorted element' (to the right) \n",
    "#             # is 'an element', like the 'sorted one' (to the left), aka, a placeholder\n",
    "#             y = x\n",
    "#             # while (1) key element is greater than zero,\n",
    "#             # (2) and its index is 'more to the right' than the index of a smaller number\n",
    "#             # (3) perform swap_method operation (swap em')\n",
    "#             # (4) decrementing it by 1 (\"inserting it\")\n",
    "#             while y > 0 and arr[y] < arr[y - 1]:\n",
    "#                 swap_method(y, y - 1, arr)\n",
    "#                 y -= 1\n",
    "#         # once they're all swapped, print new, sorted array\n",
    "#         print(arr)\n",
    "        \n",
    "def iSort_all(arr):\n",
    "    for y in len(arr):\n",
    "        y = 1\n",
    "        key = arr[y]\n",
    "        x = y - 1\n",
    "        while x > 0 and arr[x] > key:\n",
    "            arr[x + 1] = arr[x]\n",
    "            x = x - 1\n",
    "        arr[x + 1] = key\n",
    "    \n",
    "    print(arr)\n",
    "\n",
    "#test cases\n",
    "iSort([4, 2, 5, 1, 3])\n",
    "iSort([4.1, 2.2, 5.3, 1.4, 3.5])\n",
    "iSort([-4, -2, -5, -1, -3])\n",
    "iSort([5])\n",
    "iSort([])\n",
    "iSort([0, 0, 0, 0, 0])"
   ]
  },
  {
   "cell_type": "code",
   "execution_count": null,
   "metadata": {},
   "outputs": [],
   "source": []
  }
 ],
 "metadata": {
  "kernelspec": {
   "display_name": "Python 3",
   "language": "python",
   "name": "python3"
  },
  "language_info": {
   "codemirror_mode": {
    "name": "ipython",
    "version": 3
   },
   "file_extension": ".py",
   "mimetype": "text/x-python",
   "name": "python",
   "nbconvert_exporter": "python",
   "pygments_lexer": "ipython3",
   "version": "3.7.6"
  }
 },
 "nbformat": 4,
 "nbformat_minor": 2
}
